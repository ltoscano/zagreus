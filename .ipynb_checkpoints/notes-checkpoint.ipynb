{
 "metadata": {
  "name": "",
  "signature": "sha256:a859d399037d955193d3e8da67a1cca9b35f12e4bef6031cd90c165fbbe13b3f"
 },
 "nbformat": 3,
 "nbformat_minor": 0,
 "worksheets": [
  {
   "cells": [
    {
     "cell_type": "markdown",
     "metadata": {},
     "source": [
      "file:///Users/luke/Downloads/04JMIHI04-1287.pdf \n",
      "\n",
      "Do 2 minutes of HRV signal which would be 5 minutes before onset of SCA.\n"
     ]
    },
    {
     "cell_type": "code",
     "collapsed": false,
     "input": [
      "from my_record import MyRecord, interval_base\n",
      "from logitboost import load, report, records, MyBoostClassifier, random_split, estimator_list, boosting_classifier_size"
     ],
     "language": "python",
     "metadata": {},
     "outputs": [
      {
       "output_type": "stream",
       "stream": "stdout",
       "text": [
        "101\n",
        "278\n",
        "split: 3 train: 186 test: 92\n",
        "linear kernel svm accuracy: 0.91935483871"
       ]
      },
      {
       "output_type": "stream",
       "stream": "stdout",
       "text": [
        "\n",
        "logitboost accuracy: 0.97311827957"
       ]
      },
      {
       "output_type": "stream",
       "stream": "stdout",
       "text": [
        "\n"
       ]
      }
     ],
     "prompt_number": 2
    },
    {
     "cell_type": "code",
     "collapsed": false,
     "input": [
      "report()\n",
      "report()\n",
      "report()\n",
      "report()\n",
      "report()"
     ],
     "language": "python",
     "metadata": {},
     "outputs": [
      {
       "output_type": "stream",
       "stream": "stdout",
       "text": [
        "101\n",
        "278\n",
        "split: 3 train: 186 test: 92\n",
        "linear kernel svm accuracy: 0.935483870968"
       ]
      },
      {
       "output_type": "stream",
       "stream": "stdout",
       "text": [
        "\n",
        "logitboost accuracy: 0.956989247312"
       ]
      },
      {
       "output_type": "stream",
       "stream": "stdout",
       "text": [
        "\n",
        "101\n",
        "278\n",
        "split: 3 train: 186 test: 92\n",
        "linear kernel svm accuracy: 0.94623655914"
       ]
      },
      {
       "output_type": "stream",
       "stream": "stdout",
       "text": [
        "\n",
        "logitboost accuracy: 0.94623655914"
       ]
      },
      {
       "output_type": "stream",
       "stream": "stdout",
       "text": [
        "\n",
        "101\n",
        "278\n",
        "split: 3 train: 186 test: 92\n",
        "linear kernel svm accuracy: 0.951612903226"
       ]
      },
      {
       "output_type": "stream",
       "stream": "stdout",
       "text": [
        "\n",
        "logitboost accuracy: 0.97311827957"
       ]
      },
      {
       "output_type": "stream",
       "stream": "stdout",
       "text": [
        "\n",
        "101\n",
        "278\n",
        "split: 3 train: 186 test: 92\n",
        "linear kernel svm accuracy: 0.94623655914"
       ]
      },
      {
       "output_type": "stream",
       "stream": "stdout",
       "text": [
        "\n",
        "logitboost accuracy: 0.967741935484"
       ]
      },
      {
       "output_type": "stream",
       "stream": "stdout",
       "text": [
        "\n",
        "101\n",
        "278\n",
        "split: 3 train: 186 test: 92\n",
        "linear kernel svm accuracy: 0.935483870968"
       ]
      },
      {
       "output_type": "stream",
       "stream": "stdout",
       "text": [
        "\n",
        "logitboost accuracy: 0.962365591398"
       ]
      },
      {
       "output_type": "stream",
       "stream": "stdout",
       "text": [
        "\n"
       ]
      }
     ],
     "prompt_number": 4
    },
    {
     "cell_type": "code",
     "collapsed": false,
     "input": [
      "from random import shuffle\n",
      "import copy\n",
      "import operator\n",
      "import numpy\n",
      "from random import shuffle\n",
      "import pickle\n",
      "\n",
      "from sklearn.ensemble import AdaBoostClassifier\n",
      "from sklearn.tree import DecisionTreeClassifier\n",
      "from sklearn.svm import SVC\n",
      "from sklearn.naive_bayes import MultinomialNB\n",
      "from sklearn.linear_model import Perceptron"
     ],
     "language": "python",
     "metadata": {},
     "outputs": [],
     "prompt_number": 1
    },
    {
     "cell_type": "code",
     "collapsed": false,
     "input": [
      "(train_set, test_set) = random_split(3)\n",
      "train_features = list()\n",
      "train_classes = list()\n",
      "test_features = list()\n",
      "test_classes = list()\n",
      "\n",
      "for record in train_set:\n",
      "  train_features.append(list(record.features.values()))\n",
      "  train_classes.append(record.my_class)\n",
      "for record in test_set:\n",
      "  test_features.append(list(record.features.values()))\n",
      "  test_classes.append(record.my_class)\n",
      "\n",
      "svm_classifier = SVC(kernel=\"linear\", C=0.1)\n",
      "svm_classifier.fit(train_features, train_classes)\n",
      "print(\"linear kernel svm accuracy: \" +\n",
      "      str(svm_classifier.score(test_features, test_classes)))\n",
      "\n",
      "classifier = MyBoostClassifier(algorithm=\"SAMME\")\n",
      "new_estimator_list = list()\n",
      "for estimator in estimator_list:\n",
      "    for index in range(boosting_classifier_size):\n",
      "        new_estimator_list.append(copy.deepcopy(estimator))\n",
      "classifier.set_estimators(new_estimator_list)\n",
      "classifier.fit(numpy.array(train_features), numpy.array(train_classes))\n",
      "print(\"logitboost accuracy: \" +\n",
      "      str(classifier.score(numpy.array(test_features),\n",
      "                           numpy.array(test_classes))))"
     ],
     "language": "python",
     "metadata": {},
     "outputs": [
      {
       "output_type": "stream",
       "stream": "stdout",
       "text": [
        "101\n",
        "278\n",
        "split: 3 train: 186 test: 92\n",
        "linear kernel svm accuracy: 0.940860215054"
       ]
      },
      {
       "output_type": "stream",
       "stream": "stdout",
       "text": [
        "\n",
        "logitboost accuracy: 0.956989247312"
       ]
      },
      {
       "output_type": "stream",
       "stream": "stdout",
       "text": [
        "\n"
       ]
      }
     ],
     "prompt_number": 3
    },
    {
     "cell_type": "code",
     "collapsed": false,
     "input": [],
     "language": "python",
     "metadata": {},
     "outputs": []
    }
   ],
   "metadata": {}
  }
 ]
}