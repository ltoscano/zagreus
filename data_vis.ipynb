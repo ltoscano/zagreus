{
 "metadata": {
  "name": "",
  "signature": "sha256:d8e75d064adae661d75fccc5d6cb0e7ae05237a946b3d08f28b8a45143036a48"
 },
 "nbformat": 3,
 "nbformat_minor": 0,
 "worksheets": [
  {
   "cells": [
    {
     "cell_type": "code",
     "collapsed": false,
     "input": [
      "from my_record import MyRecord, interval_base\n",
      "from data_vis import load"
     ],
     "language": "python",
     "metadata": {},
     "outputs": [],
     "prompt_number": 2
    },
    {
     "cell_type": "code",
     "collapsed": false,
     "input": [],
     "language": "python",
     "metadata": {},
     "outputs": []
    }
   ],
   "metadata": {}
  }
 ]
}