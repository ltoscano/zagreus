{
 "metadata": {
  "name": "",
  "signature": "sha256:2eae6ad026fe73a9c938545b85b09a58653f96718110ba36ab0f861edb9b1600"
 },
 "nbformat": 3,
 "nbformat_minor": 0,
 "worksheets": [
  {
   "cells": [
    {
     "cell_type": "markdown",
     "metadata": {},
     "source": [
      "file:///Users/luke/Downloads/04JMIHI04-1287.pdf Notes\n",
      "5 minutes of HRV signal 2 minutes before the onset of SCA\n",
      "\n",
      "What we can do? Unrealistic to be requiring 5 minute samples constantly.\n",
      "Do 1 minute of HRV signal which would be 6 minutes before onset of SCA.\n",
      "Authors also discarded 3 samples from SCD database, let's leave those in.\n"
     ]
    }
   ],
   "metadata": {}
  }
 ]
}