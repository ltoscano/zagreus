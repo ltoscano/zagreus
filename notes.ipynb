{
 "metadata": {
  "name": "",
  "signature": "sha256:c87da2119fc6c5ae4ce904c53607635a4cab83da38f32ec852bb3774a6cab349"
 },
 "nbformat": 3,
 "nbformat_minor": 0,
 "worksheets": [
  {
   "cells": [
    {
     "cell_type": "markdown",
     "metadata": {},
     "source": [
      "file:///Users/luke/Downloads/04JMIHI04-1287.pdf Notes\n",
      "5 minutes of HRV signal 2 minutes before the onset of SCA\n",
      "\n",
      "What we can do? Unrealistic to be requiring 5 minute samples constantly.\n",
      "Do 1 minute of HRV signal which would be 6 minutes before onset of SCA.\n"
     ]
    },
    {
     "cell_type": "code",
     "collapsed": false,
     "input": [
      "from my_record import MyRecord, interval_base\n",
      "from parser import parse, load, display_avgs, report, boost_report\n",
      "\n",
      "load()\n",
      "boost_report(3)"
     ],
     "language": "python",
     "metadata": {},
     "outputs": [
      {
       "output_type": "stream",
       "stream": "stdout",
       "text": [
        "140\n",
        "500\n",
        "split: 3 train: 334 test: 166\n",
        "linear kernel svm accuracy: 0.847305389222"
       ]
      },
      {
       "output_type": "stream",
       "stream": "stdout",
       "text": [
        "\n",
        "adaboost accuracy: 0.823353293413"
       ]
      },
      {
       "output_type": "stream",
       "stream": "stdout",
       "text": [
        "\n",
        "adaboost2 accuracy: 0.98502994012"
       ]
      },
      {
       "output_type": "stream",
       "stream": "stdout",
       "text": [
        "\n"
       ]
      }
     ],
     "prompt_number": 3
    },
    {
     "cell_type": "code",
     "collapsed": false,
     "input": [],
     "language": "python",
     "metadata": {},
     "outputs": []
    }
   ],
   "metadata": {}
  }
 ]
}